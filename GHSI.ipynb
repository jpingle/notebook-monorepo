{
  "nbformat": 4,
  "nbformat_minor": 0,
  "metadata": {
    "colab": {
      "name": "GHSI.ipynb",
      "provenance": [],
      "collapsed_sections": []
    },
    "kernelspec": {
      "name": "python3",
      "display_name": "Python 3"
    }
  },
  "cells": [
    {
      "cell_type": "markdown",
      "metadata": {
        "id": "0iQRT1MOZ065",
        "colab_type": "text"
      },
      "source": [
        "# Visualization of the Global Health Security Index in light of COVID-19"
      ]
    },
    {
      "cell_type": "code",
      "metadata": {
        "id": "WzPy3uPYZNgh",
        "colab_type": "code",
        "colab": {}
      },
      "source": [
        "import pandas as pd\n",
        "import numpy as np\n",
        "import plotly.express as px"
      ],
      "execution_count": 0,
      "outputs": []
    },
    {
      "cell_type": "code",
      "metadata": {
        "id": "B4wUZdOcZnXd",
        "colab_type": "code",
        "colab": {}
      },
      "source": [
        "df = pd.read_csv('COVID-GHSI.csv')"
      ],
      "execution_count": 0,
      "outputs": []
    },
    {
      "cell_type": "code",
      "metadata": {
        "id": "KNXe9HEqZrkn",
        "colab_type": "code",
        "outputId": "0608bd5f-8acb-458b-cb7b-9d008a915d54",
        "colab": {
          "base_uri": "https://localhost:8080/",
          "height": 419
        }
      },
      "source": [
        "df"
      ],
      "execution_count": 0,
      "outputs": [
        {
          "output_type": "execute_result",
          "data": {
            "text/html": [
              "<div>\n",
              "<style scoped>\n",
              "    .dataframe tbody tr th:only-of-type {\n",
              "        vertical-align: middle;\n",
              "    }\n",
              "\n",
              "    .dataframe tbody tr th {\n",
              "        vertical-align: top;\n",
              "    }\n",
              "\n",
              "    .dataframe thead th {\n",
              "        text-align: right;\n",
              "    }\n",
              "</style>\n",
              "<table border=\"1\" class=\"dataframe\">\n",
              "  <thead>\n",
              "    <tr style=\"text-align: right;\">\n",
              "      <th></th>\n",
              "      <th>Country</th>\n",
              "      <th>Global Health Security Index</th>\n",
              "      <th>Confirmed Cases</th>\n",
              "      <th>Deaths</th>\n",
              "      <th>Case-Fatality</th>\n",
              "      <th>Deaths/100k pop.</th>\n",
              "    </tr>\n",
              "  </thead>\n",
              "  <tbody>\n",
              "    <tr>\n",
              "      <th>0</th>\n",
              "      <td>Afghanistan</td>\n",
              "      <td>32.3</td>\n",
              "      <td>6053.0</td>\n",
              "      <td>153.0</td>\n",
              "      <td>0.03</td>\n",
              "      <td>0.41</td>\n",
              "    </tr>\n",
              "    <tr>\n",
              "      <th>1</th>\n",
              "      <td>Albania</td>\n",
              "      <td>52.9</td>\n",
              "      <td>916.0</td>\n",
              "      <td>31.0</td>\n",
              "      <td>0.03</td>\n",
              "      <td>1.08</td>\n",
              "    </tr>\n",
              "    <tr>\n",
              "      <th>2</th>\n",
              "      <td>Algeria</td>\n",
              "      <td>23.6</td>\n",
              "      <td>6629.0</td>\n",
              "      <td>536.0</td>\n",
              "      <td>0.08</td>\n",
              "      <td>1.27</td>\n",
              "    </tr>\n",
              "    <tr>\n",
              "      <th>3</th>\n",
              "      <td>Andorra</td>\n",
              "      <td>30.5</td>\n",
              "      <td>761.0</td>\n",
              "      <td>49.0</td>\n",
              "      <td>0.06</td>\n",
              "      <td>63.63</td>\n",
              "    </tr>\n",
              "    <tr>\n",
              "      <th>4</th>\n",
              "      <td>Antigua and Barbuda</td>\n",
              "      <td>29.0</td>\n",
              "      <td>64.0</td>\n",
              "      <td>3.0</td>\n",
              "      <td>0.12</td>\n",
              "      <td>3.12</td>\n",
              "    </tr>\n",
              "    <tr>\n",
              "      <th>...</th>\n",
              "      <td>...</td>\n",
              "      <td>...</td>\n",
              "      <td>...</td>\n",
              "      <td>...</td>\n",
              "      <td>...</td>\n",
              "      <td>...</td>\n",
              "    </tr>\n",
              "    <tr>\n",
              "      <th>136</th>\n",
              "      <td>Uruguay</td>\n",
              "      <td>41.3</td>\n",
              "      <td>732.0</td>\n",
              "      <td>19.0</td>\n",
              "      <td>0.03</td>\n",
              "      <td>0.55</td>\n",
              "    </tr>\n",
              "    <tr>\n",
              "      <th>137</th>\n",
              "      <td>Uzbekistan</td>\n",
              "      <td>34.3</td>\n",
              "      <td>263.0</td>\n",
              "      <td>11.0</td>\n",
              "      <td>0.00</td>\n",
              "      <td>0.03</td>\n",
              "    </tr>\n",
              "    <tr>\n",
              "      <th>138</th>\n",
              "      <td>Venezuela</td>\n",
              "      <td>23.0</td>\n",
              "      <td>1209.0</td>\n",
              "      <td>10.0</td>\n",
              "      <td>0.02</td>\n",
              "      <td>0.03</td>\n",
              "    </tr>\n",
              "    <tr>\n",
              "      <th>139</th>\n",
              "      <td>Zambia</td>\n",
              "      <td>28.7</td>\n",
              "      <td>594.0</td>\n",
              "      <td>7.0</td>\n",
              "      <td>0.01</td>\n",
              "      <td>0.04</td>\n",
              "    </tr>\n",
              "    <tr>\n",
              "      <th>140</th>\n",
              "      <td>Zimbabwe</td>\n",
              "      <td>38.2</td>\n",
              "      <td>1309.0</td>\n",
              "      <td>4.0</td>\n",
              "      <td>0.10</td>\n",
              "      <td>0.03</td>\n",
              "    </tr>\n",
              "  </tbody>\n",
              "</table>\n",
              "<p>141 rows × 6 columns</p>\n",
              "</div>"
            ],
            "text/plain": [
              "                 Country  ...  Deaths/100k pop.\n",
              "0            Afghanistan  ...              0.41\n",
              "1                Albania  ...              1.08\n",
              "2                Algeria  ...              1.27\n",
              "3                Andorra  ...             63.63\n",
              "4    Antigua and Barbuda  ...              3.12\n",
              "..                   ...  ...               ...\n",
              "136              Uruguay  ...              0.55\n",
              "137           Uzbekistan  ...              0.03\n",
              "138            Venezuela  ...              0.03\n",
              "139               Zambia  ...              0.04\n",
              "140             Zimbabwe  ...              0.03\n",
              "\n",
              "[141 rows x 6 columns]"
            ]
          },
          "metadata": {
            "tags": []
          },
          "execution_count": 3
        }
      ]
    },
    {
      "cell_type": "code",
      "metadata": {
        "id": "BXGLkmZLZtNU",
        "colab_type": "code",
        "outputId": "ed3667b8-80d5-405d-9836-635621bff407",
        "colab": {
          "base_uri": "https://localhost:8080/",
          "height": 542
        }
      },
      "source": [
        "fig = px.scatter(df, x=\"Global Health Security Index\", y=\"Deaths/100k pop.\",\n",
        "                 size=\"Confirmed Cases\", color=\"Deaths\",\n",
        "                 hover_name=\"Country\", size_max=60)\n",
        "fig.show()"
      ],
      "execution_count": 0,
      "outputs": [
        {
          "output_type": "display_data",
          "data": {
            "text/html": [
              "<html>\n",
              "<head><meta charset=\"utf-8\" /></head>\n",
              "<body>\n",
              "    <div>\n",
              "            <script src=\"https://cdnjs.cloudflare.com/ajax/libs/mathjax/2.7.5/MathJax.js?config=TeX-AMS-MML_SVG\"></script><script type=\"text/javascript\">if (window.MathJax) {MathJax.Hub.Config({SVG: {font: \"STIX-Web\"}});}</script>\n",
              "                <script type=\"text/javascript\">window.PlotlyConfig = {MathJaxConfig: 'local'};</script>\n",
              "        <script src=\"https://cdn.plot.ly/plotly-latest.min.js\"></script>    \n",
              "            <div id=\"a4addd89-e637-4d2c-8e79-d7835db72308\" class=\"plotly-graph-div\" style=\"height:525px; width:100%;\"></div>\n",
              "            <script type=\"text/javascript\">\n",
              "                \n",
              "                    window.PLOTLYENV=window.PLOTLYENV || {};\n",
              "                    \n",
              "                if (document.getElementById(\"a4addd89-e637-4d2c-8e79-d7835db72308\")) {\n",
              "                    Plotly.newPlot(\n",
              "                        'a4addd89-e637-4d2c-8e79-d7835db72308',\n",
              "                        [{\"hoverlabel\": {\"namelength\": 0}, \"hovertemplate\": \"<b>%{hovertext}</b><br><br>Global Health Security Index=%{x}<br>Deaths/100k pop.=%{y}<br>Confirmed Cases=%{marker.size}<br>Deaths=%{marker.color}\", \"hovertext\": [\"Afghanistan\", \"Albania\", \"Algeria\", \"Andorra\", \"Antigua and Barbuda\", \"Argentina\", \"Armenia\", \"Australia\", \"Austria\", \"Azerbaijan\", \"Bahrain\", \"Bangladesh\", \"Barbados\", \"Belarus\", \"Belgium\", \"Bolivia\", \"Bosnia and Herzegovina\", \"Brazil\", \"Bulgaria\", \"Burkina Faso\", \"Cameroon\", \"Canada\", \"Chad\", \"Chile\", \"China\", \"Colombia\", \"Congo (Brazzaville)\", \"Congo (Democratic Republic)\", \"Costa Rica\", \"Cote d'Ivoire\", \"Croatia\", \"Cuba\", \"Cyprus\", \"Czech Republic\", \"Denmark\", \"Djibouti\", \"Dominican Republic\", \"Ecuador\", \"Egypt\", \"El Salvador\", \"Equatorial Guinea\", \"Estonia\", \"Ethiopia\", \"Finland\", \"France\", \"Gabon\", \"Georgia\", \"Germany\", \"Ghana\", \"Greece\", \"Guatemala\", \"Guinea\", \"Guinea-Bissau\", \"Guyana\", \"Haiti\", \"Honduras\", \"Hungary\", \"Iceland\", \"India\", \"Indonesia\", \"Iran\", \"Iraq\", \"Ireland\", \"Israel\", \"Italy\", \"Jamaica\", \"Japan\", \"Jordan\", \"Kazakhstan\", \"Kenya\", \"Kuwait\", \"Kyrgyz Republic\", \"Latvia\", \"Lebanon\", \"Liberia\", \"Libya\", \"Lithuania\", \"Luxembourg\", \"Malawi\", \"Malaysia\", \"Maldives\", \"Mali\", \"Malta\", \"Mauritius\", \"Mexico\", \"Moldova\", \"Monaco\", \"Montenegro\", \"Morocco\", \"Netherlands\", \"New Zealand\", \"Nicaragua\", \"Niger\", \"Nigeria\", \"North Macedonia\", \"Norway\", \"Oman\", \"Pakistan\", \"Panama\", \"Paraguay\", \"Peru\", \"Philippines\", \"Poland\", \"Portugal\", \"Qatar\", \"Romania\", \"Russia\", \"San Marino\", \"Sao Tome and Principe\", \"Saudi Arabia\", \"Senegal\", \"Serbia\", \"Sierra Leone\", \"Singapore\", \"Slovakia\", \"Slovenia\", \"Somalia\", \"South Africa\", \"South Korea\", \"South Sudan\", \"Spain\", \"Sri Lanka\", \"Sudan\", \"Sweden\", \"Switzerland\", \"Tajikistan\", \"Tanzania\", \"Thailand\", \"Togo\", \"Trinidad and Tobago\", \"Tunisia\", \"Turkey\", \"Ukraine\", \"United Arab Emirates\", \"United Kingdom\", \"United States\", \"Uruguay\", \"Uzbekistan\", \"Venezuela\", \"Zambia\", \"Zimbabwe\"], \"legendgroup\": \"\", \"marker\": {\"color\": [153.0, 31.0, 536.0, 49.0, 3.0, 356.0, 52.0, 98.0, 628.0, 36.0, 12.0, 298.0, 7.0, 156.0, 8959.0, 164.0, 128.0, 14962.0, 102.0, 51.0, 140.0, 5679.0, 48.0, 394.0, 4637.0, 546.0, 15.0, 50.0, 9.0, 24.0, 95.0, 79.0, 17.0, 295.0, 537.0, 4.0, 424.0, 2594.0, 592.0, 25.0, 7.0, 63.0, 5.0, 293.0, 27532.0, 10.0, 12.0, 7897.0, 28.0, 160.0, 30.0, 15.0, 3.0, 10.0, 20.0, 134.0, 442.0, 10.0, 2753.0, 1076.0, 6902.0, 117.0, 1518.0, 266.0, 31610.0, 9.0, 713.0, 9.0, 34.0, 45.0, 96.0, 14.0, 19.0, 26.0, 20.0, 3.0, 54.0, 104.0, 3.0, 112.0, 4.0, 46.0, 6.0, 10.0, 4767.0, 202.0, 4.0, 9.0, 190.0, 5662.0, 21.0, 8.0, 51.0, 171.0, 97.0, 232.0, 20.0, 834.0, 266.0, 11.0, 2392.0, 806.0, 907.0, 1190.0, 14.0, 1070.0, 2418.0, 41.0, 7.0, 292.0, 25.0, 225.0, 27.0, 21.0, 27.0, 103.0, 53.0, 247.0, 262.0, 4.0, 27459.0, 9.0, 91.0, 3646.0, 1878.0, 33.0, 21.0, 56.0, 11.0, 8.0, 45.0, 4055.0, 476.0, 210.0, 34078.0, 87530.0, 19.0, 11.0, 10.0, 7.0, 4.0], \"coloraxis\": \"coloraxis\", \"size\": [6053.0, 916.0, 6629.0, 761.0, 64.0, 7479.0, 4044.0, 7035.0, 16109.0, 2980.0, 759.0, 20065.0, 235.0, 27730.0, 54644.0, 3577.0, 2236.0, 220291.0, 2138.0, 780.0, 3105.0, 75959.0, 428.0, 39542.0, 84038.0, 14216.0, 106.0, 1298.0, 511.0, 2017.0, 2222.0, 1840.0, 391.0, 8406.0, 10989.0, 236.0, 11739.0, 31467.0, 11228.0, 1210.0, 85.0, 1766.0, 96.0, 6228.0, 179630.0, 332.0, 6583.0, 175233.0, 5638.0, 2810.0, 1643.0, 1111.0, 29.0, 843.0, 310.0, 2460.0, 3417.0, 116.0, 85784.0, 16496.0, 116635.0, 3193.0, 23956.0, 16589.0, 223885.0, 935.0, 16203.0, 116.0, 5689.0, 781.0, 12860.0, 29425.0, 970.0, 891.0, 219.0, 50.0, 1523.0, 3923.0, 25.0, 6855.0, 42.0, 806.0, 287.0, 1802.0, 45032.0, 5745.0, 1031.0, 596.0, 6652.0, 43880.0, 1498.0, 654.0, 885.0, 5450.0, 1740.0, 8219.0, 4625.0, 38799.0, 9268.0, 2686.0, 84495.0, 12091.0, 18016.0, 28583.0, 671.0, 16437.0, 262843.0, 652.0, 182.0, 49176.0, 2310.0, 10438.0, 447.0, 26891.0, 1480.0, 1465.0, 1284.0, 13524.0, 11037.0, 63.0, 230183.0, 324.0, 1964.0, 29207.0, 30514.0, 1118.0, 509.0, 3025.0, 96.0, 25.0, 1035.0, 146457.0, 17330.0, 21831.0, 238004.0, 1442824.0, 732.0, 263.0, 1209.0, 594.0, 1309.0], \"sizemode\": \"area\", \"sizeref\": 400.78444444444443, \"symbol\": \"circle\"}, \"mode\": \"markers\", \"name\": \"\", \"showlegend\": false, \"type\": \"scatter\", \"x\": [32.3, 52.9, 23.6, 30.5, 29.0, 58.6, 50.2, 75.5, 58.5, 34.2, 39.4, 35.0, 31.9, 35.3, 61.0, 35.8, 42.8, 59.7, 45.6, 30.1, 34.4, 75.3, 28.8, 58.3, 48.2, 44.2, 23.6, 26.5, 45.1, 35.5, 53.3, 35.2, 43.0, 52.0, 70.4, 23.2, 38.3, 50.1, 39.9, 44.2, 16.2, 57.0, 40.6, 68.7, 68.2, 20.0, 52.0, 66.0, 35.5, 53.8, 32.7, 32.7, 20.0, 31.7, 31.5, 27.6, 54.0, 46.3, 46.5, 56.6, 37.7, 25.8, 59.0, 47.3, 56.2, 29.0, 59.8, 42.1, 40.7, 47.1, 46.1, 49.3, 62.9, 43.1, 35.1, 25.7, 55.0, 43.8, 28.0, 62.2, 33.8, 29.0, 37.3, 34.9, 57.6, 42.9, 32.7, 43.7, 43.7, 75.6, 54.0, 43.1, 32.2, 37.8, 39.1, 64.6, 43.1, 35.5, 43.7, 35.7, 49.2, 47.6, 55.4, 60.3, 41.2, 45.8, 44.3, 31.1, 17.7, 49.3, 37.9, 52.3, 38.2, 58.7, 47.9, 67.2, 16.6, 54.8, 70.2, 21.7, 65.9, 33.9, 26.2, 72.1, 67.0, 32.3, 36.4, 73.2, 32.5, 36.6, 33.7, 52.4, 38.0, 46.7, 77.9, 83.5, 41.3, 34.3, 23.0, 28.7, 38.2], \"xaxis\": \"x\", \"y\": [0.41, 1.08, 1.27, 63.63, 3.12, 0.8, 1.76, 0.39, 7.1, 0.36, 0.76, 0.18, 2.44, 1.64, 78.44, 1.44, 3.85, 7.14, 1.45, 0.26, 0.56, 15.32, 0.31, 2.1, 0.33, 1.1, 0.29, 0.06, 0.18, 0.1, 2.32, 0.7, 1.43, 2.78, 9.26, 0.42, 3.99, 15.18, 0.6, 0.39, 0.53, 4.77, 0.0, 5.31, 41.1, 0.47, 0.32, 9.52, 0.09, 1.49, 0.17, 0.12, 0.16, 1.28, 0.18, 1.4, 4.52, 2.83, 0.2, 0.4, 8.44, 0.3, 31.28, 2.99, 52.31, 0.31, 0.56, 0.09, 0.19, 0.09, 2.32, 0.22, 0.99, 0.38, 0.42, 0.04, 1.94, 17.11, 0.02, 0.36, 0.78, 0.24, 1.24, 0.79, 3.78, 5.7, 10.34, 1.45, 0.53, 32.86, 0.43, 0.12, 0.23, 0.09, 4.66, 4.37, 0.41, 0.39, 6.37, 0.16, 7.48, 0.76, 2.39, 11.57, 0.5, 5.49, 1.67, 121.36, 3.32, 0.87, 0.16, 3.22, 0.35, 0.37, 0.5, 4.98, 0.35, 0.43, 0.51, 0.04, 58.77, 0.04, 0.22, 35.8, 22.05, 0.36, 0.04, 0.08, 0.14, 0.58, 0.39, 4.93, 1.07, 2.18, 51.25, 26.75, 0.55, 0.03, 0.03, 0.04, 0.03], \"yaxis\": \"y\"}],\n",
              "                        {\"coloraxis\": {\"colorbar\": {\"title\": {\"text\": \"Deaths\"}}, \"colorscale\": [[0.0, \"#0d0887\"], [0.1111111111111111, \"#46039f\"], [0.2222222222222222, \"#7201a8\"], [0.3333333333333333, \"#9c179e\"], [0.4444444444444444, \"#bd3786\"], [0.5555555555555556, \"#d8576b\"], [0.6666666666666666, \"#ed7953\"], [0.7777777777777778, \"#fb9f3a\"], [0.8888888888888888, \"#fdca26\"], [1.0, \"#f0f921\"]]}, \"legend\": {\"itemsizing\": \"constant\", \"tracegroupgap\": 0}, \"margin\": {\"t\": 60}, \"template\": {\"data\": {\"bar\": [{\"error_x\": {\"color\": \"#2a3f5f\"}, \"error_y\": {\"color\": \"#2a3f5f\"}, \"marker\": {\"line\": {\"color\": \"#E5ECF6\", \"width\": 0.5}}, \"type\": \"bar\"}], \"barpolar\": [{\"marker\": {\"line\": {\"color\": \"#E5ECF6\", \"width\": 0.5}}, \"type\": \"barpolar\"}], \"carpet\": [{\"aaxis\": {\"endlinecolor\": \"#2a3f5f\", \"gridcolor\": \"white\", \"linecolor\": \"white\", \"minorgridcolor\": \"white\", \"startlinecolor\": \"#2a3f5f\"}, \"baxis\": {\"endlinecolor\": \"#2a3f5f\", \"gridcolor\": \"white\", \"linecolor\": \"white\", \"minorgridcolor\": \"white\", \"startlinecolor\": \"#2a3f5f\"}, \"type\": \"carpet\"}], \"choropleth\": [{\"colorbar\": {\"outlinewidth\": 0, \"ticks\": \"\"}, \"type\": \"choropleth\"}], \"contour\": [{\"colorbar\": {\"outlinewidth\": 0, \"ticks\": \"\"}, \"colorscale\": [[0.0, \"#0d0887\"], [0.1111111111111111, \"#46039f\"], [0.2222222222222222, \"#7201a8\"], [0.3333333333333333, \"#9c179e\"], [0.4444444444444444, \"#bd3786\"], [0.5555555555555556, \"#d8576b\"], [0.6666666666666666, \"#ed7953\"], [0.7777777777777778, \"#fb9f3a\"], [0.8888888888888888, \"#fdca26\"], [1.0, \"#f0f921\"]], \"type\": \"contour\"}], \"contourcarpet\": [{\"colorbar\": {\"outlinewidth\": 0, \"ticks\": \"\"}, \"type\": \"contourcarpet\"}], \"heatmap\": [{\"colorbar\": {\"outlinewidth\": 0, \"ticks\": \"\"}, \"colorscale\": [[0.0, \"#0d0887\"], [0.1111111111111111, \"#46039f\"], [0.2222222222222222, \"#7201a8\"], [0.3333333333333333, \"#9c179e\"], [0.4444444444444444, \"#bd3786\"], [0.5555555555555556, \"#d8576b\"], [0.6666666666666666, \"#ed7953\"], [0.7777777777777778, \"#fb9f3a\"], [0.8888888888888888, \"#fdca26\"], [1.0, \"#f0f921\"]], \"type\": \"heatmap\"}], \"heatmapgl\": [{\"colorbar\": {\"outlinewidth\": 0, \"ticks\": \"\"}, \"colorscale\": [[0.0, \"#0d0887\"], [0.1111111111111111, \"#46039f\"], [0.2222222222222222, \"#7201a8\"], [0.3333333333333333, \"#9c179e\"], [0.4444444444444444, \"#bd3786\"], [0.5555555555555556, \"#d8576b\"], [0.6666666666666666, \"#ed7953\"], [0.7777777777777778, \"#fb9f3a\"], [0.8888888888888888, \"#fdca26\"], [1.0, \"#f0f921\"]], \"type\": \"heatmapgl\"}], \"histogram\": [{\"marker\": {\"colorbar\": {\"outlinewidth\": 0, \"ticks\": \"\"}}, \"type\": \"histogram\"}], \"histogram2d\": [{\"colorbar\": {\"outlinewidth\": 0, \"ticks\": \"\"}, \"colorscale\": [[0.0, \"#0d0887\"], [0.1111111111111111, \"#46039f\"], [0.2222222222222222, \"#7201a8\"], [0.3333333333333333, \"#9c179e\"], [0.4444444444444444, \"#bd3786\"], [0.5555555555555556, \"#d8576b\"], [0.6666666666666666, \"#ed7953\"], [0.7777777777777778, \"#fb9f3a\"], [0.8888888888888888, \"#fdca26\"], [1.0, \"#f0f921\"]], \"type\": \"histogram2d\"}], \"histogram2dcontour\": [{\"colorbar\": {\"outlinewidth\": 0, \"ticks\": \"\"}, \"colorscale\": [[0.0, \"#0d0887\"], [0.1111111111111111, \"#46039f\"], [0.2222222222222222, \"#7201a8\"], [0.3333333333333333, \"#9c179e\"], [0.4444444444444444, \"#bd3786\"], [0.5555555555555556, \"#d8576b\"], [0.6666666666666666, \"#ed7953\"], [0.7777777777777778, \"#fb9f3a\"], [0.8888888888888888, \"#fdca26\"], [1.0, \"#f0f921\"]], \"type\": \"histogram2dcontour\"}], \"mesh3d\": [{\"colorbar\": {\"outlinewidth\": 0, \"ticks\": \"\"}, \"type\": \"mesh3d\"}], \"parcoords\": [{\"line\": {\"colorbar\": {\"outlinewidth\": 0, \"ticks\": \"\"}}, \"type\": \"parcoords\"}], \"pie\": [{\"automargin\": true, \"type\": \"pie\"}], \"scatter\": [{\"marker\": {\"colorbar\": {\"outlinewidth\": 0, \"ticks\": \"\"}}, \"type\": \"scatter\"}], \"scatter3d\": [{\"line\": {\"colorbar\": {\"outlinewidth\": 0, \"ticks\": \"\"}}, \"marker\": {\"colorbar\": {\"outlinewidth\": 0, \"ticks\": \"\"}}, \"type\": \"scatter3d\"}], \"scattercarpet\": [{\"marker\": {\"colorbar\": {\"outlinewidth\": 0, \"ticks\": \"\"}}, \"type\": \"scattercarpet\"}], \"scattergeo\": [{\"marker\": {\"colorbar\": {\"outlinewidth\": 0, \"ticks\": \"\"}}, \"type\": \"scattergeo\"}], \"scattergl\": [{\"marker\": {\"colorbar\": {\"outlinewidth\": 0, \"ticks\": \"\"}}, \"type\": \"scattergl\"}], \"scattermapbox\": [{\"marker\": {\"colorbar\": {\"outlinewidth\": 0, \"ticks\": \"\"}}, \"type\": \"scattermapbox\"}], \"scatterpolar\": [{\"marker\": {\"colorbar\": {\"outlinewidth\": 0, \"ticks\": \"\"}}, \"type\": \"scatterpolar\"}], \"scatterpolargl\": [{\"marker\": {\"colorbar\": {\"outlinewidth\": 0, \"ticks\": \"\"}}, \"type\": \"scatterpolargl\"}], \"scatterternary\": [{\"marker\": {\"colorbar\": {\"outlinewidth\": 0, \"ticks\": \"\"}}, \"type\": \"scatterternary\"}], \"surface\": [{\"colorbar\": {\"outlinewidth\": 0, \"ticks\": \"\"}, \"colorscale\": [[0.0, \"#0d0887\"], [0.1111111111111111, \"#46039f\"], [0.2222222222222222, \"#7201a8\"], [0.3333333333333333, \"#9c179e\"], [0.4444444444444444, \"#bd3786\"], [0.5555555555555556, \"#d8576b\"], [0.6666666666666666, \"#ed7953\"], [0.7777777777777778, \"#fb9f3a\"], [0.8888888888888888, \"#fdca26\"], [1.0, \"#f0f921\"]], \"type\": \"surface\"}], \"table\": [{\"cells\": {\"fill\": {\"color\": \"#EBF0F8\"}, \"line\": {\"color\": \"white\"}}, \"header\": {\"fill\": {\"color\": \"#C8D4E3\"}, \"line\": {\"color\": \"white\"}}, \"type\": \"table\"}]}, \"layout\": {\"annotationdefaults\": {\"arrowcolor\": \"#2a3f5f\", \"arrowhead\": 0, \"arrowwidth\": 1}, \"coloraxis\": {\"colorbar\": {\"outlinewidth\": 0, \"ticks\": \"\"}}, \"colorscale\": {\"diverging\": [[0, \"#8e0152\"], [0.1, \"#c51b7d\"], [0.2, \"#de77ae\"], [0.3, \"#f1b6da\"], [0.4, \"#fde0ef\"], [0.5, \"#f7f7f7\"], [0.6, \"#e6f5d0\"], [0.7, \"#b8e186\"], [0.8, \"#7fbc41\"], [0.9, \"#4d9221\"], [1, \"#276419\"]], \"sequential\": [[0.0, \"#0d0887\"], [0.1111111111111111, \"#46039f\"], [0.2222222222222222, \"#7201a8\"], [0.3333333333333333, \"#9c179e\"], [0.4444444444444444, \"#bd3786\"], [0.5555555555555556, \"#d8576b\"], [0.6666666666666666, \"#ed7953\"], [0.7777777777777778, \"#fb9f3a\"], [0.8888888888888888, \"#fdca26\"], [1.0, \"#f0f921\"]], \"sequentialminus\": [[0.0, \"#0d0887\"], [0.1111111111111111, \"#46039f\"], [0.2222222222222222, \"#7201a8\"], [0.3333333333333333, \"#9c179e\"], [0.4444444444444444, \"#bd3786\"], [0.5555555555555556, \"#d8576b\"], [0.6666666666666666, \"#ed7953\"], [0.7777777777777778, \"#fb9f3a\"], [0.8888888888888888, \"#fdca26\"], [1.0, \"#f0f921\"]]}, \"colorway\": [\"#636efa\", \"#EF553B\", \"#00cc96\", \"#ab63fa\", \"#FFA15A\", \"#19d3f3\", \"#FF6692\", \"#B6E880\", \"#FF97FF\", \"#FECB52\"], \"font\": {\"color\": \"#2a3f5f\"}, \"geo\": {\"bgcolor\": \"white\", \"lakecolor\": \"white\", \"landcolor\": \"#E5ECF6\", \"showlakes\": true, \"showland\": true, \"subunitcolor\": \"white\"}, \"hoverlabel\": {\"align\": \"left\"}, \"hovermode\": \"closest\", \"mapbox\": {\"style\": \"light\"}, \"paper_bgcolor\": \"white\", \"plot_bgcolor\": \"#E5ECF6\", \"polar\": {\"angularaxis\": {\"gridcolor\": \"white\", \"linecolor\": \"white\", \"ticks\": \"\"}, \"bgcolor\": \"#E5ECF6\", \"radialaxis\": {\"gridcolor\": \"white\", \"linecolor\": \"white\", \"ticks\": \"\"}}, \"scene\": {\"xaxis\": {\"backgroundcolor\": \"#E5ECF6\", \"gridcolor\": \"white\", \"gridwidth\": 2, \"linecolor\": \"white\", \"showbackground\": true, \"ticks\": \"\", \"zerolinecolor\": \"white\"}, \"yaxis\": {\"backgroundcolor\": \"#E5ECF6\", \"gridcolor\": \"white\", \"gridwidth\": 2, \"linecolor\": \"white\", \"showbackground\": true, \"ticks\": \"\", \"zerolinecolor\": \"white\"}, \"zaxis\": {\"backgroundcolor\": \"#E5ECF6\", \"gridcolor\": \"white\", \"gridwidth\": 2, \"linecolor\": \"white\", \"showbackground\": true, \"ticks\": \"\", \"zerolinecolor\": \"white\"}}, \"shapedefaults\": {\"line\": {\"color\": \"#2a3f5f\"}}, \"ternary\": {\"aaxis\": {\"gridcolor\": \"white\", \"linecolor\": \"white\", \"ticks\": \"\"}, \"baxis\": {\"gridcolor\": \"white\", \"linecolor\": \"white\", \"ticks\": \"\"}, \"bgcolor\": \"#E5ECF6\", \"caxis\": {\"gridcolor\": \"white\", \"linecolor\": \"white\", \"ticks\": \"\"}}, \"title\": {\"x\": 0.05}, \"xaxis\": {\"automargin\": true, \"gridcolor\": \"white\", \"linecolor\": \"white\", \"ticks\": \"\", \"title\": {\"standoff\": 15}, \"zerolinecolor\": \"white\", \"zerolinewidth\": 2}, \"yaxis\": {\"automargin\": true, \"gridcolor\": \"white\", \"linecolor\": \"white\", \"ticks\": \"\", \"title\": {\"standoff\": 15}, \"zerolinecolor\": \"white\", \"zerolinewidth\": 2}}}, \"xaxis\": {\"anchor\": \"y\", \"domain\": [0.0, 1.0], \"title\": {\"text\": \"Global Health Security Index\"}}, \"yaxis\": {\"anchor\": \"x\", \"domain\": [0.0, 1.0], \"title\": {\"text\": \"Deaths/100k pop.\"}}},\n",
              "                        {\"responsive\": true}\n",
              "                    ).then(function(){\n",
              "                            \n",
              "var gd = document.getElementById('a4addd89-e637-4d2c-8e79-d7835db72308');\n",
              "var x = new MutationObserver(function (mutations, observer) {{\n",
              "        var display = window.getComputedStyle(gd).display;\n",
              "        if (!display || display === 'none') {{\n",
              "            console.log([gd, 'removed!']);\n",
              "            Plotly.purge(gd);\n",
              "            observer.disconnect();\n",
              "        }}\n",
              "}});\n",
              "\n",
              "// Listen for the removal of the full notebook cells\n",
              "var notebookContainer = gd.closest('#notebook-container');\n",
              "if (notebookContainer) {{\n",
              "    x.observe(notebookContainer, {childList: true});\n",
              "}}\n",
              "\n",
              "// Listen for the clearing of the current output cell\n",
              "var outputEl = gd.closest('.output');\n",
              "if (outputEl) {{\n",
              "    x.observe(outputEl, {childList: true});\n",
              "}}\n",
              "\n",
              "                        })\n",
              "                };\n",
              "                \n",
              "            </script>\n",
              "        </div>\n",
              "</body>\n",
              "</html>"
            ]
          },
          "metadata": {
            "tags": []
          }
        }
      ]
    }
  ]
}